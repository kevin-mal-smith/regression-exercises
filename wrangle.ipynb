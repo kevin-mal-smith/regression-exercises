{
 "cells": [
  {
   "cell_type": "code",
   "execution_count": 36,
   "id": "2a63426e",
   "metadata": {},
   "outputs": [],
   "source": [
    "import pandas as pd\n",
    "import os\n",
    "from env import username, host, password\n",
    "import matplotlib.pyplot as plt\n",
    "import seaborn as sns"
   ]
  },
  {
   "cell_type": "code",
   "execution_count": 2,
   "id": "7a436d56",
   "metadata": {},
   "outputs": [],
   "source": [
    "def get_connection(db, user=username, host=host, password=password):\n",
    "    \n",
    "    return f'mysql+pymysql://{user}:{password}@{host}/{db}'\n",
    "\n",
    "def new_zillow_data():\n",
    "   \n",
    "    sql_query = \"\"\"\n",
    "                select bedroomcnt, bathroomcnt, calculatedfinishedsquarefeet, \n",
    "                taxvaluedollarcnt, yearbuilt, taxamount, fips  from properties_2017\n",
    "                WHERE propertylandusetypeid = 261;\n",
    "                \"\"\"\n",
    "    \n",
    "    # Read in DataFrame from Codeup db.\n",
    "    df = pd.read_sql(sql_query, get_connection('zillow'))\n",
    "    \n",
    "    return df\n",
    "\n",
    "def get_zillow_data():\n",
    "    \n",
    "    if os.path.isfile('zillow.csv'):\n",
    "        \n",
    "        # If csv file exists read in data from csv file.\n",
    "        df = pd.read_csv('zillow.csv', index_col=0)\n",
    "        \n",
    "    else:\n",
    "        \n",
    "        # Read fresh data from db into a DataFrame\n",
    "        df = new_zillow_data()\n",
    "        \n",
    "        # Cache data\n",
    "        df.to_csv('zillow.csv')\n",
    "        \n",
    "    return df"
   ]
  },
  {
   "cell_type": "code",
   "execution_count": 44,
   "id": "7b14e708",
   "metadata": {},
   "outputs": [
    {
     "name": "stderr",
     "output_type": "stream",
     "text": [
      "/opt/anaconda3/lib/python3.9/site-packages/numpy/lib/arraysetops.py:583: FutureWarning: elementwise comparison failed; returning scalar instead, but in the future will perform elementwise comparison\n",
      "  mask |= (ar1 == a)\n"
     ]
    }
   ],
   "source": [
    "df = get_zillow_data()"
   ]
  },
  {
   "cell_type": "code",
   "execution_count": 45,
   "id": "b7a06943",
   "metadata": {},
   "outputs": [],
   "source": [
    "df = df.dropna()"
   ]
  },
  {
   "cell_type": "code",
   "execution_count": 46,
   "id": "f9fcc1db",
   "metadata": {},
   "outputs": [
    {
     "data": {
      "text/plain": [
       "bedroomcnt  bathroomcnt  calculatedfinishedsquarefeet  taxvaluedollarcnt  yearbuilt  taxamount  fips  \n",
       "3.0         1.0          1002.0                        39230.0            1962.0     419.14     6111.0    21\n",
       "2.0         2.5          1008.0                        101575.0           1988.0     1450.58    6059.0    16\n",
       "4.0         3.0          2539.0                        678000.0           2005.0     9094.20    6059.0    14\n",
       "3.0         2.5          1358.0                        194027.0           2000.0     2317.92    6111.0    14\n",
       "                         2060.0                        455635.0           2007.0     5271.34    6059.0    13\n",
       "                                                                                                          ..\n",
       "            2.0          1312.0                        55069.0            1954.0     874.62     6059.0     1\n",
       "                                                       54603.0            1963.0     857.48     6059.0     1\n",
       "                                                       54300.0            1955.0     954.44     6037.0     1\n",
       "                                                       54293.0            1956.0     947.47     6037.0     1\n",
       "25.0        20.0         11700.0                       1608491.0          2010.0     19238.87   6037.0     1\n",
       "Length: 2130214, dtype: int64"
      ]
     },
     "execution_count": 46,
     "metadata": {},
     "output_type": "execute_result"
    }
   ],
   "source": [
    "df.value_counts()"
   ]
  },
  {
   "cell_type": "code",
   "execution_count": 47,
   "id": "485df01c",
   "metadata": {},
   "outputs": [
    {
     "data": {
      "text/plain": [
       "['bedroomcnt', 'calculatedfinishedsquarefeet', 'yearbuilt']"
      ]
     },
     "execution_count": 47,
     "metadata": {},
     "output_type": "execute_result"
    }
   ],
   "source": [
    "cols = ['bedroomcnt', 'calculatedfinishedsquarefeet',\n",
    "        'yearbuilt']\n",
    "cols"
   ]
  },
  {
   "cell_type": "code",
   "execution_count": 50,
   "id": "90c20830",
   "metadata": {},
   "outputs": [],
   "source": [
    "df[cols] = df[cols].astype('int')\n",
    "df.fips = (df.fips * 10).astype('object')"
   ]
  },
  {
   "cell_type": "code",
   "execution_count": 49,
   "id": "27a75590",
   "metadata": {},
   "outputs": [
    {
     "data": {
      "text/plain": [
       "<AxesSubplot:xlabel='yearbuilt', ylabel='Count'>"
      ]
     },
     "execution_count": 49,
     "metadata": {},
     "output_type": "execute_result"
    },
    {
     "data": {
      "image/png": "[encoded data removed]",
      "text/plain": [
       "<Figure size 432x288 with 1 Axes>"
      ]
     },
     "metadata": {
      "needs_background": "light"
     },
     "output_type": "display_data"
    }
   ],
   "source": [
    "sns.histplot(data=df, x='yearbuilt')"
   ]
  }
 ],
 "metadata": {
  "kernelspec": {
   "display_name": "Python 3 (ipykernel)",
   "language": "python",
   "name": "python3"
  },
  "language_info": {
   "codemirror_mode": {
    "name": "ipython",
    "version": 3
   },
   "file_extension": ".py",
   "mimetype": "text/x-python",
   "name": "python",
   "nbconvert_exporter": "python",
   "pygments_lexer": "ipython3",
   "version": "3.9.7"
  }
 },
 "nbformat": 4,
 "nbformat_minor": 5
}
