{
 "cells": [
  {
   "cell_type": "code",
   "execution_count": 1,
   "id": "daff8c7a",
   "metadata": {},
   "outputs": [],
   "source": [
    "import pandas as pd\n",
    "import numpy as np\n",
    "import matplotlib.pyplot as plt\n",
    "from scipy import stats\n",
    "from sklearn.metrics import mean_squared_error, r2_score\n",
    "from sklearn.model_selection import train_test_split\n",
    "\n",
    "from sklearn.linear_model import LinearRegression\n",
    "from sklearn.feature_selection import f_regression \n",
    "from math import sqrt\n",
    "import seaborn as sns\n",
    "import env\n",
    "import wrangle\n",
    "import warnings\n",
    "import evaluate\n",
    "warnings.filterwarnings('ignore')"
   ]
  },
  {
   "cell_type": "code",
   "execution_count": 2,
   "id": "a5841603",
   "metadata": {},
   "outputs": [
    {
     "name": "stdout",
     "output_type": "stream",
     "text": [
      "    bedroomcnt  bathroomcnt  calculatedfinishedsquarefeet  taxvaluedollarcnt  \\\n",
      "4          4.0          2.0                        3633.0           296425.0   \n",
      "6          3.0          4.0                        1620.0           847770.0   \n",
      "7          3.0          2.0                        2077.0           646760.0   \n",
      "11         0.0          0.0                        1200.0             5328.0   \n",
      "14         0.0          0.0                         171.0             6920.0   \n",
      "\n",
      "    yearbuilt  taxamount    fips  \n",
      "4      2005.0    6941.39  6037.0  \n",
      "6      2011.0   10244.94  6037.0  \n",
      "7      1926.0    7924.68  6037.0  \n",
      "11     1972.0      91.60  6037.0  \n",
      "14     1973.0     255.17  6037.0  \n"
     ]
    }
   ],
   "source": [
    "df = wrangle.wrangle_zillow()"
   ]
  },
  {
   "cell_type": "markdown",
   "id": "353cce91",
   "metadata": {},
   "source": [
    "Load your zillow dataset."
   ]
  },
  {
   "cell_type": "markdown",
   "id": "84cedae1",
   "metadata": {},
   "source": [
    "Fit a linear regression model (ordinary least squares) and compute yhat, predictions of taxvaluedollarcnt using only calfulatedfinishedsqft."
   ]
  },
  {
   "cell_type": "code",
   "execution_count": 3,
   "id": "18d38a14",
   "metadata": {},
   "outputs": [],
   "source": [
    "df.columns = ['bedrooms','bathrooms','sq_feet','tax_value','year_built','tax_amount','fips']"
   ]
  },
  {
   "cell_type": "code",
   "execution_count": 4,
   "id": "6b5fd280",
   "metadata": {},
   "outputs": [],
   "source": [
    "df = df.drop(columns='tax_amount')"
   ]
  },
  {
   "cell_type": "code",
   "execution_count": 5,
   "id": "64f4f934",
   "metadata": {},
   "outputs": [],
   "source": [
    "train, validate = train_test_split(df, random_state=123)\n",
    "train, test = train_test_split(train)"
   ]
  },
  {
   "cell_type": "code",
   "execution_count": 6,
   "id": "a5b198b5",
   "metadata": {},
   "outputs": [],
   "source": [
    "train['baseline'] = train.tax_value.mean()"
   ]
  },
  {
   "cell_type": "code",
   "execution_count": 7,
   "id": "a6a4d56c",
   "metadata": {},
   "outputs": [],
   "source": [
    "lr = LinearRegression(normalize=True)\n",
    "\n",
    "lr.fit(train[['sq_feet']], train.tax_value)\n",
    "\n",
    "train['yhat'] = lr.predict(train[['sq_feet']])"
   ]
  },
  {
   "cell_type": "code",
   "execution_count": 8,
   "id": "ddaf74bc",
   "metadata": {},
   "outputs": [
    {
     "data": {
      "text/html": [
       "<div>\n",
       "<style scoped>\n",
       "    .dataframe tbody tr th:only-of-type {\n",
       "        vertical-align: middle;\n",
       "    }\n",
       "\n",
       "    .dataframe tbody tr th {\n",
       "        vertical-align: top;\n",
       "    }\n",
       "\n",
       "    .dataframe thead th {\n",
       "        text-align: right;\n",
       "    }\n",
       "</style>\n",
       "<table border=\"1\" class=\"dataframe\">\n",
       "  <thead>\n",
       "    <tr style=\"text-align: right;\">\n",
       "      <th></th>\n",
       "      <th>bedrooms</th>\n",
       "      <th>bathrooms</th>\n",
       "      <th>sq_feet</th>\n",
       "      <th>tax_value</th>\n",
       "      <th>year_built</th>\n",
       "      <th>fips</th>\n",
       "      <th>baseline</th>\n",
       "      <th>yhat</th>\n",
       "      <th>residual</th>\n",
       "      <th>b_resid</th>\n",
       "    </tr>\n",
       "  </thead>\n",
       "  <tbody>\n",
       "    <tr>\n",
       "      <th>835148</th>\n",
       "      <td>2</td>\n",
       "      <td>2.0</td>\n",
       "      <td>1799.0</td>\n",
       "      <td>516592.0</td>\n",
       "      <td>1955</td>\n",
       "      <td>60370</td>\n",
       "      <td>398801.769729</td>\n",
       "      <td>399623.312474</td>\n",
       "      <td>116968.687526</td>\n",
       "      <td>117790.230271</td>\n",
       "    </tr>\n",
       "    <tr>\n",
       "      <th>500862</th>\n",
       "      <td>3</td>\n",
       "      <td>1.0</td>\n",
       "      <td>1210.0</td>\n",
       "      <td>298465.0</td>\n",
       "      <td>1952</td>\n",
       "      <td>60370</td>\n",
       "      <td>398801.769729</td>\n",
       "      <td>260200.972167</td>\n",
       "      <td>38264.027833</td>\n",
       "      <td>-100336.769729</td>\n",
       "    </tr>\n",
       "    <tr>\n",
       "      <th>57016</th>\n",
       "      <td>3</td>\n",
       "      <td>2.0</td>\n",
       "      <td>2335.0</td>\n",
       "      <td>1154658.0</td>\n",
       "      <td>1937</td>\n",
       "      <td>60370</td>\n",
       "      <td>398801.769729</td>\n",
       "      <td>526500.009255</td>\n",
       "      <td>628157.990745</td>\n",
       "      <td>755856.230271</td>\n",
       "    </tr>\n",
       "    <tr>\n",
       "      <th>51778</th>\n",
       "      <td>2</td>\n",
       "      <td>1.0</td>\n",
       "      <td>879.0</td>\n",
       "      <td>172960.0</td>\n",
       "      <td>1947</td>\n",
       "      <td>60590</td>\n",
       "      <td>398801.769729</td>\n",
       "      <td>181849.877700</td>\n",
       "      <td>-8889.877700</td>\n",
       "      <td>-225841.769729</td>\n",
       "    </tr>\n",
       "    <tr>\n",
       "      <th>838443</th>\n",
       "      <td>2</td>\n",
       "      <td>1.0</td>\n",
       "      <td>1045.0</td>\n",
       "      <td>812200.0</td>\n",
       "      <td>1950</td>\n",
       "      <td>60590</td>\n",
       "      <td>398801.769729</td>\n",
       "      <td>221143.780061</td>\n",
       "      <td>591056.219939</td>\n",
       "      <td>413398.230271</td>\n",
       "    </tr>\n",
       "  </tbody>\n",
       "</table>\n",
       "</div>"
      ],
      "text/plain": [
       "        bedrooms  bathrooms  sq_feet  tax_value  year_built   fips  \\\n",
       "835148         2        2.0   1799.0   516592.0        1955  60370   \n",
       "500862         3        1.0   1210.0   298465.0        1952  60370   \n",
       "57016          3        2.0   2335.0  1154658.0        1937  60370   \n",
       "51778          2        1.0    879.0   172960.0        1947  60590   \n",
       "838443         2        1.0   1045.0   812200.0        1950  60590   \n",
       "\n",
       "             baseline           yhat       residual        b_resid  \n",
       "835148  398801.769729  399623.312474  116968.687526  117790.230271  \n",
       "500862  398801.769729  260200.972167   38264.027833 -100336.769729  \n",
       "57016   398801.769729  526500.009255  628157.990745  755856.230271  \n",
       "51778   398801.769729  181849.877700   -8889.877700 -225841.769729  \n",
       "838443  398801.769729  221143.780061  591056.219939  413398.230271  "
      ]
     },
     "execution_count": 8,
     "metadata": {},
     "output_type": "execute_result"
    }
   ],
   "source": [
    "train['residual'] = train.tax_value - train.yhat\n",
    "train['b_resid'] = train.tax_value - train.baseline\n",
    "train.head()"
   ]
  },
  {
   "cell_type": "markdown",
   "id": "823f9d20",
   "metadata": {},
   "source": [
    "Plot the residuals for the linear regression model that you made."
   ]
  },
  {
   "cell_type": "code",
   "execution_count": 9,
   "id": "6631b57e",
   "metadata": {
    "scrolled": true
   },
   "outputs": [
    {
     "data": {
      "text/plain": [
       "Text(0.5, 1.0, 'Linear Regression Residual')"
      ]
     },
     "execution_count": 9,
     "metadata": {},
     "output_type": "execute_result"
    },
    {
     "data": {
      "image/png": "[encoded data removed]",
      "text/plain": [
       "<Figure size 792x360 with 2 Axes>"
      ]
     },
     "metadata": {
      "needs_background": "light"
     },
     "output_type": "display_data"
    }
   ],
   "source": [
    "plt.figure(figsize = (11,5))\n",
    "\n",
    "plt.subplot(121)\n",
    "plt.scatter(train.sq_feet, train.b_resid)\n",
    "plt.axhline(y = 0, ls = ':')\n",
    "plt.xlabel('x')\n",
    "plt.ylabel('Residual')\n",
    "plt.title('Baseline Residuals')\n",
    "\n",
    "plt.subplot(122)\n",
    "plt.scatter(train.sq_feet, train.residual)\n",
    "plt.axhline(y = 0, ls = ':')\n",
    "plt.xlabel('x')\n",
    "plt.ylabel('Residual')\n",
    "plt.title('Linear Regression Residual')"
   ]
  },
  {
   "cell_type": "code",
   "execution_count": 10,
   "id": "3376514b",
   "metadata": {},
   "outputs": [],
   "source": [
    "y = train.tax_value\n",
    "yhat = train.yhat"
   ]
  },
  {
   "cell_type": "code",
   "execution_count": 11,
   "id": "0759ad92",
   "metadata": {},
   "outputs": [
    {
     "data": {
      "image/png": "[encoded data removed]",
      "text/plain": [
       "<Figure size 792x360 with 2 Axes>"
      ]
     },
     "metadata": {
      "needs_background": "light"
     },
     "output_type": "display_data"
    }
   ],
   "source": [
    "evaluate.plot_residuals(y,yhat)"
   ]
  },
  {
   "cell_type": "markdown",
   "id": "faa96926",
   "metadata": {},
   "source": [
    "Calculate the sum of squared errors, explained sum of squares, total sum of squares, mean squared error, and root mean squared error for your model.\n",
    "\n",
    "- Sum of Squared Errors\n",
    "    - (Residuals**2).sum()\n",
    "- Explained sum of squares\n",
    "    -  ((yhat-baseline)**2).sum()\n",
    "- Total sum of squares\n",
    "    - (Sum of Squared Errors) + (Explained Sum of Squares)\n",
    "- Mean Squared Error\n",
    "    - (Sum of Squared Errors)/(Count of Residuals)\n",
    "- Root Mean Squared Error\n",
    "    - $ \\sqrt(Mean Squared Error) $"
   ]
  },
  {
   "cell_type": "code",
   "execution_count": 12,
   "id": "cf319da9",
   "metadata": {},
   "outputs": [],
   "source": [
    "train['residual^2'] = train.residual**2\n",
    "train['b_resid^2'] = train.b_resid**2"
   ]
  },
  {
   "cell_type": "code",
   "execution_count": 13,
   "id": "71225b6e",
   "metadata": {
    "scrolled": true
   },
   "outputs": [
    {
     "name": "stdout",
     "output_type": "stream",
     "text": [
      "SSE = 75608395177246144.0\n"
     ]
    }
   ],
   "source": [
    "SSE = train['residual^2'].sum()\n",
    "SSE_baseline = train['b_resid^2'].sum()\n",
    "\n",
    "print('SSE =', \"{:.1f}\".format(SSE))\n"
   ]
  },
  {
   "cell_type": "code",
   "execution_count": 14,
   "id": "2420fe53",
   "metadata": {},
   "outputs": [
    {
     "name": "stdout",
     "output_type": "stream",
     "text": [
      "ESS = 39753532344644104.0\n"
     ]
    }
   ],
   "source": [
    "\n",
    "ESS = sum((train.yhat - train.tax_value.mean())**2)\n",
    "print('ESS =', \"{:.1f}\".format(ESS))\n"
   ]
  },
  {
   "cell_type": "code",
   "execution_count": 15,
   "id": "105f63ac",
   "metadata": {},
   "outputs": [
    {
     "name": "stdout",
     "output_type": "stream",
     "text": [
      "TSS = 115361927521890240.0\n"
     ]
    }
   ],
   "source": [
    "TSS = ESS + SSE\n",
    "\n",
    "print('TSS =', \"{:.1f}\".format(TSS))"
   ]
  },
  {
   "cell_type": "code",
   "execution_count": 16,
   "id": "a66b4721",
   "metadata": {
    "scrolled": true
   },
   "outputs": [
    {
     "name": "stdout",
     "output_type": "stream",
     "text": [
      "MSE = 64323154936.3\n"
     ]
    }
   ],
   "source": [
    "MSE = SSE/len(train)\n",
    "print('MSE =', \"{:.1f}\".format(MSE))"
   ]
  },
  {
   "cell_type": "code",
   "execution_count": 17,
   "id": "7751daa0",
   "metadata": {},
   "outputs": [
    {
     "name": "stdout",
     "output_type": "stream",
     "text": [
      "SSE = 75608395177246144.0\n",
      "ESS = 39753532344644104.0\n",
      "TSS = 115361927521890240.0\n",
      "MSE = 64323154936.3\n",
      "RMSE = 253620.1\n"
     ]
    }
   ],
   "source": [
    "RMSE = sqrt(MSE)\n",
    "print('SSE =', \"{:.1f}\".format(SSE))\n",
    "print('ESS =', \"{:.1f}\".format(ESS))\n",
    "print('TSS =', \"{:.1f}\".format(TSS))\n",
    "print('MSE =', \"{:.1f}\".format(MSE))\n",
    "print('RMSE =', \"{:.1f}\".format(RMSE))\n"
   ]
  },
  {
   "cell_type": "markdown",
   "id": "aedb73c8",
   "metadata": {},
   "source": [
    "Calculate the sum of squared errors, mean squared error, and root mean squared error for the baseline model (i.e. a model that always predicts the average taxvaluedollarcnt amount)."
   ]
  },
  {
   "cell_type": "code",
   "execution_count": 18,
   "id": "c970d830",
   "metadata": {},
   "outputs": [
    {
     "name": "stdout",
     "output_type": "stream",
     "text": [
      "SSE baseline = 115361927521907200.0\n",
      "MSE baseline = 98143111229.2\n",
      "RMSE baseline = 313278.0\n"
     ]
    }
   ],
   "source": [
    "B_MSE = SSE_baseline/len(train)\n",
    "B_RMSE = sqrt(B_MSE)\n",
    "\n",
    "print('SSE baseline =', \"{:.1f}\".format(SSE_baseline))\n",
    "print('MSE baseline =', \"{:.1f}\".format(B_MSE))\n",
    "print('RMSE baseline =', \"{:.1f}\".format(B_RMSE))"
   ]
  },
  {
   "cell_type": "markdown",
   "id": "4766f1e0",
   "metadata": {},
   "source": [
    "Write python code that compares the sum of squared errors for your model against the sum of squared errors for the baseline model and outputs whether or not your model performs better than the baseline model."
   ]
  },
  {
   "cell_type": "code",
   "execution_count": 19,
   "id": "4d105e5f",
   "metadata": {},
   "outputs": [
    {
     "name": "stdout",
     "output_type": "stream",
     "text": [
      "The model out performs the baseline!\n"
     ]
    }
   ],
   "source": [
    "if SSE < SSE_baseline:\n",
    "    print('The model out performs the baseline!')"
   ]
  },
  {
   "cell_type": "markdown",
   "id": "b9f5b8a3",
   "metadata": {},
   "source": [
    "What is the amount of variance explained in your model?"
   ]
  },
  {
   "cell_type": "code",
   "execution_count": 20,
   "id": "ad8f7469",
   "metadata": {},
   "outputs": [
    {
     "name": "stdout",
     "output_type": "stream",
     "text": [
      "The amount of variance explained by my model is 34.459837%.\n"
     ]
    }
   ],
   "source": [
    "print(f'The amount of variance explained by my model is {r2_score(train.tax_value,train.yhat):%}.')"
   ]
  },
  {
   "cell_type": "markdown",
   "id": "21495338",
   "metadata": {},
   "source": [
    "Is your model better than the baseline model?"
   ]
  },
  {
   "cell_type": "code",
   "execution_count": 21,
   "id": "899a289d",
   "metadata": {
    "scrolled": true
   },
   "outputs": [
    {
     "name": "stdout",
     "output_type": "stream",
     "text": [
      "Yes!\n"
     ]
    }
   ],
   "source": [
    "if (r2_score(train.tax_value,train.yhat)) > (r2_score(train.tax_value, train.baseline)):\n",
    "    print('Yes!')\n",
    "else:\n",
    "    print('No')"
   ]
  },
  {
   "cell_type": "code",
   "execution_count": 22,
   "id": "ccfbfe20",
   "metadata": {},
   "outputs": [
    {
     "name": "stdout",
     "output_type": "stream",
     "text": [
      "SSE:  75608395177246144\n",
      "ESS: -0.000059\n",
      "TSS:  75608395177246144\n",
      "MSE:  64323154936\n",
      "RMSE:  253620\n"
     ]
    },
    {
     "data": {
      "text/plain": [
       "(7.560839517724614e+16,\n",
       " -5.8946345234289765e-05,\n",
       " 7.560839517724614e+16,\n",
       " 64323154936.29324,\n",
       " 253620.0996299253)"
      ]
     },
     "execution_count": 22,
     "metadata": {},
     "output_type": "execute_result"
    }
   ],
   "source": [
    "evaluate.regression_errors(y,yhat)"
   ]
  },
  {
   "cell_type": "markdown",
   "id": "5eea75fe",
   "metadata": {},
   "source": [
    "Create a file named evaluate.py that contains the following functions.\n",
    "\n",
    "1. plot_residuals(y, yhat): creates a residual plot\n",
    "2. regression_errors(y, yhat): returns the following values:\n",
    "3. sum of squared errors (SSE)\n",
    "4. explained sum of squares (ESS)\n",
    "5. total sum of squares (TSS)\n",
    "6. mean squared error (MSE)\n",
    "7. root mean squared error (RMSE)\n",
    "8. baseline_mean_errors(y): computes the SSE, MSE, and RMSE for the baseline model\n",
    "9. better_than_baseline(y, yhat): returns true if your model performs better than the baseline, otherwise false"
   ]
  }
 ],
 "metadata": {
  "kernelspec": {
   "display_name": "Python 3 (ipykernel)",
   "language": "python",
   "name": "python3"
  },
  "language_info": {
   "codemirror_mode": {
    "name": "ipython",
    "version": 3
   },
   "file_extension": ".py",
   "mimetype": "text/x-python",
   "name": "python",
   "nbconvert_exporter": "python",
   "pygments_lexer": "ipython3",
   "version": "3.9.7"
  }
 },
 "nbformat": 4,
 "nbformat_minor": 5
}
