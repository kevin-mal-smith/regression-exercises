{
 "cells": [
  {
   "cell_type": "code",
   "execution_count": 1,
   "id": "e511c2e2",
   "metadata": {},
   "outputs": [],
   "source": [
    "import pandas as pd\n",
    "import os\n",
    "from env import username, host, password\n",
    "import matplotlib.pyplot as plt\n",
    "import seaborn as sns\n",
    "import numpy as np\n",
    "from scipy import stats\n",
    "import sklearn.preprocessing\n",
    "from sklearn.model_selection import train_test_split\n",
    "import wrangle"
   ]
  },
  {
   "cell_type": "code",
   "execution_count": 2,
   "id": "bc923c1e",
   "metadata": {},
   "outputs": [
    {
     "name": "stdout",
     "output_type": "stream",
     "text": [
      "    bedroomcnt  bathroomcnt  calculatedfinishedsquarefeet  taxvaluedollarcnt  \\\n",
      "4          4.0          2.0                        3633.0           296425.0   \n",
      "6          3.0          4.0                        1620.0           847770.0   \n",
      "7          3.0          2.0                        2077.0           646760.0   \n",
      "11         0.0          0.0                        1200.0             5328.0   \n",
      "14         0.0          0.0                         171.0             6920.0   \n",
      "\n",
      "    yearbuilt  taxamount    fips  \n",
      "4      2005.0    6941.39  6037.0  \n",
      "6      2011.0   10244.94  6037.0  \n",
      "7      1926.0    7924.68  6037.0  \n",
      "11     1972.0      91.60  6037.0  \n",
      "14     1973.0     255.17  6037.0  \n"
     ]
    }
   ],
   "source": [
    "df = wrangle.wrangle_zillow()"
   ]
  },
  {
   "cell_type": "code",
   "execution_count": 3,
   "id": "2ccf0e45",
   "metadata": {},
   "outputs": [
    {
     "data": {
      "text/html": [
       "<div>\n",
       "<style scoped>\n",
       "    .dataframe tbody tr th:only-of-type {\n",
       "        vertical-align: middle;\n",
       "    }\n",
       "\n",
       "    .dataframe tbody tr th {\n",
       "        vertical-align: top;\n",
       "    }\n",
       "\n",
       "    .dataframe thead th {\n",
       "        text-align: right;\n",
       "    }\n",
       "</style>\n",
       "<table border=\"1\" class=\"dataframe\">\n",
       "  <thead>\n",
       "    <tr style=\"text-align: right;\">\n",
       "      <th></th>\n",
       "      <th>bedroomcnt</th>\n",
       "      <th>bathroomcnt</th>\n",
       "      <th>calculatedfinishedsquarefeet</th>\n",
       "      <th>taxvaluedollarcnt</th>\n",
       "      <th>yearbuilt</th>\n",
       "      <th>taxamount</th>\n",
       "      <th>fips</th>\n",
       "    </tr>\n",
       "  </thead>\n",
       "  <tbody>\n",
       "    <tr>\n",
       "      <th>4</th>\n",
       "      <td>4</td>\n",
       "      <td>2.0</td>\n",
       "      <td>3633</td>\n",
       "      <td>296425.0</td>\n",
       "      <td>2005</td>\n",
       "      <td>6941.39</td>\n",
       "      <td>60370</td>\n",
       "    </tr>\n",
       "    <tr>\n",
       "      <th>6</th>\n",
       "      <td>3</td>\n",
       "      <td>4.0</td>\n",
       "      <td>1620</td>\n",
       "      <td>847770.0</td>\n",
       "      <td>2011</td>\n",
       "      <td>10244.94</td>\n",
       "      <td>60370</td>\n",
       "    </tr>\n",
       "    <tr>\n",
       "      <th>7</th>\n",
       "      <td>3</td>\n",
       "      <td>2.0</td>\n",
       "      <td>2077</td>\n",
       "      <td>646760.0</td>\n",
       "      <td>1926</td>\n",
       "      <td>7924.68</td>\n",
       "      <td>60370</td>\n",
       "    </tr>\n",
       "    <tr>\n",
       "      <th>11</th>\n",
       "      <td>0</td>\n",
       "      <td>0.0</td>\n",
       "      <td>1200</td>\n",
       "      <td>5328.0</td>\n",
       "      <td>1972</td>\n",
       "      <td>91.60</td>\n",
       "      <td>60370</td>\n",
       "    </tr>\n",
       "    <tr>\n",
       "      <th>14</th>\n",
       "      <td>0</td>\n",
       "      <td>0.0</td>\n",
       "      <td>171</td>\n",
       "      <td>6920.0</td>\n",
       "      <td>1973</td>\n",
       "      <td>255.17</td>\n",
       "      <td>60370</td>\n",
       "    </tr>\n",
       "  </tbody>\n",
       "</table>\n",
       "</div>"
      ],
      "text/plain": [
       "    bedroomcnt  bathroomcnt  calculatedfinishedsquarefeet  taxvaluedollarcnt  \\\n",
       "4            4          2.0                          3633           296425.0   \n",
       "6            3          4.0                          1620           847770.0   \n",
       "7            3          2.0                          2077           646760.0   \n",
       "11           0          0.0                          1200             5328.0   \n",
       "14           0          0.0                           171             6920.0   \n",
       "\n",
       "    yearbuilt  taxamount   fips  \n",
       "4        2005    6941.39  60370  \n",
       "6        2011   10244.94  60370  \n",
       "7        1926    7924.68  60370  \n",
       "11       1972      91.60  60370  \n",
       "14       1973     255.17  60370  "
      ]
     },
     "execution_count": 3,
     "metadata": {},
     "output_type": "execute_result"
    }
   ],
   "source": [
    "df.head()"
   ]
  },
  {
   "cell_type": "code",
   "execution_count": 4,
   "id": "57b77a5f",
   "metadata": {},
   "outputs": [],
   "source": [
    "df.columns = ['bedrooms','bathrooms','sq_feet','tax_value','year_built','tax_amount','fips']"
   ]
  },
  {
   "cell_type": "code",
   "execution_count": 5,
   "id": "c6f73c07",
   "metadata": {},
   "outputs": [
    {
     "data": {
      "text/plain": [
       "<AxesSubplot:>"
      ]
     },
     "execution_count": 5,
     "metadata": {},
     "output_type": "execute_result"
    },
    {
     "data": {
      "image/png": "[encoded data removed]",
      "text/plain": [
       "<Figure size 432x288 with 1 Axes>"
      ]
     },
     "metadata": {
      "needs_background": "light"
     },
     "output_type": "display_data"
    }
   ],
   "source": [
    "df.tax_value.hist()"
   ]
  },
  {
   "cell_type": "code",
   "execution_count": 6,
   "id": "6bac9e5b",
   "metadata": {},
   "outputs": [],
   "source": [
    "train, test = train_test_split(df, random_state=123)\n",
    "train, validate = train_test_split(train)"
   ]
  },
  {
   "cell_type": "code",
   "execution_count": 17,
   "id": "5e8d81f8",
   "metadata": {},
   "outputs": [],
   "source": [
    "cols = ['sq_feet']"
   ]
  },
  {
   "cell_type": "code",
   "execution_count": 32,
   "id": "1921e12a",
   "metadata": {},
   "outputs": [],
   "source": [
    "mm = sklearn.preprocessing.MinMaxScaler()\n"
   ]
  },
  {
   "cell_type": "code",
   "execution_count": 33,
   "id": "774cd3df",
   "metadata": {},
   "outputs": [],
   "source": [
    "mm.fit(train[cols])\n",
    "mm_train = mm.transform(train[cols])\n",
    "#mm_validate = mm.transform(validate)\n",
    "#mm_test = mm.transform(test)"
   ]
  },
  {
   "cell_type": "code",
   "execution_count": 34,
   "id": "ca3b2fb3",
   "metadata": {},
   "outputs": [],
   "source": [
    "std = sklearn.preprocessing.StandardScaler()\n",
    "\n",
    "std.fit(train[cols])\n",
    "\n",
    "std_train = std.transform(train[cols])\n",
    "#std_validate = std.transform(validate)\n",
    "#std_test = std.transform(test)"
   ]
  },
  {
   "cell_type": "code",
   "execution_count": 35,
   "id": "778e22bd",
   "metadata": {},
   "outputs": [],
   "source": [
    "rob = sklearn.preprocessing.StandardScaler()\n",
    "\n",
    "rob.fit(train[cols])\n",
    "\n",
    "rob_train = rob.transform(train[cols])\n",
    "#rob_validate = rob.transform(validate)\n",
    "#rob_test = rob.transform(test)"
   ]
  },
  {
   "cell_type": "code",
   "execution_count": 36,
   "id": "6b12be18",
   "metadata": {},
   "outputs": [],
   "source": [
    "qt = sklearn.preprocessing.QuantileTransformer(output_distribution='normal')\n",
    "qt.fit(train[cols])\n",
    "\n",
    "qt_train = qt.transform(train[cols])\n",
    "#qt_validate = qt.transform(validate)\n",
    "#qt_test = qt.transform(test)"
   ]
  },
  {
   "cell_type": "code",
   "execution_count": 38,
   "id": "d57146b6",
   "metadata": {
    "scrolled": true
   },
   "outputs": [
    {
     "data": {
      "text/plain": [
       "Text(0.5, 1.0, 'Quantile')"
      ]
     },
     "execution_count": 38,
     "metadata": {},
     "output_type": "execute_result"
    },
    {
     "data": {
      "image/png": "[encoded data removed]",
      "text/plain": [
       "<Figure size 936x288 with 5 Axes>"
      ]
     },
     "metadata": {
      "needs_background": "light"
     },
     "output_type": "display_data"
    }
   ],
   "source": [
    "plt.figure(figsize=(13, 4))\n",
    "plt.subplot(151)\n",
    "plt.hist(train[cols], bins=5, ec='black')\n",
    "plt.title('Original')\n",
    "plt.subplot(152)\n",
    "plt.hist(mm_train, bins=5, ec='black')\n",
    "plt.title('Min-Max')\n",
    "plt.subplot(153)\n",
    "plt.hist(std_train, bins=5, ec='black')\n",
    "plt.title('Standard')\n",
    "plt.subplot(154)\n",
    "plt.hist(rob_train, bins=5, ec='black')\n",
    "plt.title('Robust')\n",
    "plt.subplot(155)\n",
    "plt.hist(qt_train, bins=5, ec='black')\n",
    "plt.title('Quantile')"
   ]
  },
  {
   "cell_type": "code",
   "execution_count": null,
   "id": "44574d05",
   "metadata": {},
   "outputs": [],
   "source": [
    "inverse_mm_scaled = mm.inverse_transform(train[cols])\n",
    "plt.hist(inverse_mm_scaled, bins=10, ec='black')\n",
    "plt.show()"
   ]
  }
 ],
 "metadata": {
  "kernelspec": {
   "display_name": "Python 3 (ipykernel)",
   "language": "python",
   "name": "python3"
  },
  "language_info": {
   "codemirror_mode": {
    "name": "ipython",
    "version": 3
   },
   "file_extension": ".py",
   "mimetype": "text/x-python",
   "name": "python",
   "nbconvert_exporter": "python",
   "pygments_lexer": "ipython3",
   "version": "3.9.7"
  }
 },
 "nbformat": 4,
 "nbformat_minor": 5
}
